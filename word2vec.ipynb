{
 "cells": [
  {
   "cell_type": "markdown",
   "metadata": {},
   "source": [
    "# Gensim word embedding"
   ]
  },
  {
   "cell_type": "markdown",
   "metadata": {},
   "source": [
    "Word embedding is the collective name for a set of language modeling and feature learning techniques in natural language processing (NLP) where words or phrases from the vocabulary are mapped to vectors of real numbers. Conceptually it involves a mathematical embedding from a space with one dimension per word to a continuous vector space with much lower dimension.\n",
    "\n",
    "Word2vec takes as its input a large corpus of text and produces a vector space, typically of several hundred dimensions, with each unique word in the corpus being assigned a corresponding vector in the space.\n",
    "\n",
    "Word vectors are positioned in the vector space such that words that share common contexts in the corpus are located in close proximity to one another in the space. The purpose and usefulness of Word2vec is to group the vectors of similar words together in vectorspace.\n",
    "\n",
    "The points have some nice properties (words with similar meanings tend to occur closer to each other) [proximity is measured using cosine distance between 2 word vectors]\n",
    "\n",
    "You can use on of the performance evaluation methods, such as the Word error rate (WER) or Preplexity (PPR).\n",
    "\n",
    "Word2vec training is an unsupervised task, there’s no good way to objectively evaluate the result. Evaluation depends on your end application."
   ]
  },
  {
   "cell_type": "code",
   "execution_count": 40,
   "metadata": {},
   "outputs": [],
   "source": [
    "from sklearn.decomposition import PCA\n",
    "from matplotlib import pyplot as plt\n",
    "import pandas as pd\n",
    "import warnings\n",
    "warnings.filterwarnings('ignore')"
   ]
  },
  {
   "cell_type": "code",
   "execution_count": 41,
   "metadata": {},
   "outputs": [],
   "source": [
    "# define training data\n",
    "sentences = [\n",
    "            ['this', 'is', 'the', 'first', 'sentence', 'for', 'word2vec'],\n",
    "            ['this', 'is', 'the', 'second', 'sentence'],\n",
    "            ['yet', 'another', 'sentence'],\n",
    "            ['one', 'more', 'sentence'],\n",
    "            ['and', 'the', 'final', 'sentence']\n",
    "            ]"
   ]
  },
  {
   "cell_type": "code",
   "execution_count": 42,
   "metadata": {},
   "outputs": [],
   "source": [
    "# Gensim word2vec model\n",
    "\n",
    "# min_count: Words below the min_count frequency are dropped before training occurs\n",
    "\n",
    "# size : Dimensionality of the feature vectors (normal range 100 to 300)\n",
    "\n",
    "# sg : skip-gram or CBOW\n",
    "\n",
    "from gensim.models import Word2Vec\n",
    "model = Word2Vec(sentences, size=300, min_count=1)"
   ]
  },
  {
   "cell_type": "code",
   "execution_count": 43,
   "metadata": {},
   "outputs": [
    {
     "data": {
      "text/plain": [
       "{'this': <gensim.models.keyedvectors.Vocab at 0x49dd8e0>,\n",
       " 'is': <gensim.models.keyedvectors.Vocab at 0x49ddd60>,\n",
       " 'the': <gensim.models.keyedvectors.Vocab at 0x49dd808>,\n",
       " 'first': <gensim.models.keyedvectors.Vocab at 0x49dde98>,\n",
       " 'sentence': <gensim.models.keyedvectors.Vocab at 0x49dd658>,\n",
       " 'for': <gensim.models.keyedvectors.Vocab at 0x49dde50>,\n",
       " 'word2vec': <gensim.models.keyedvectors.Vocab at 0x49dd490>,\n",
       " 'second': <gensim.models.keyedvectors.Vocab at 0x49dd778>,\n",
       " 'yet': <gensim.models.keyedvectors.Vocab at 0x49ddef8>,\n",
       " 'another': <gensim.models.keyedvectors.Vocab at 0x49ddd00>,\n",
       " 'one': <gensim.models.keyedvectors.Vocab at 0x49dddd8>,\n",
       " 'more': <gensim.models.keyedvectors.Vocab at 0x49ddb38>,\n",
       " 'and': <gensim.models.keyedvectors.Vocab at 0x49dd898>,\n",
       " 'final': <gensim.models.keyedvectors.Vocab at 0x49ddd30>}"
      ]
     },
     "execution_count": 43,
     "metadata": {},
     "output_type": "execute_result"
    }
   ],
   "source": [
    "model.wv.vocab # wv objects contain mapping b/w words and embedding"
   ]
  },
  {
   "cell_type": "code",
   "execution_count": 44,
   "metadata": {},
   "outputs": [
    {
     "data": {
      "text/plain": [
       "array([[ 9.3474059e-04, -1.2397201e-03, -5.7488465e-04, ...,\n",
       "         4.7587953e-04, -1.7098231e-04,  5.1608131e-05],\n",
       "       [ 5.2183220e-04, -2.8954138e-04,  1.5949433e-03, ...,\n",
       "        -1.4195421e-04,  2.0076369e-04, -6.2771322e-04],\n",
       "       [ 9.4563048e-04,  7.4043270e-04, -1.2772779e-03, ...,\n",
       "         1.0228147e-03,  1.4452571e-03, -1.0443116e-03],\n",
       "       ...,\n",
       "       [-7.1219128e-04,  5.2793475e-04, -5.9428083e-04, ...,\n",
       "         7.7968405e-04,  6.8202015e-04,  5.2004913e-04],\n",
       "       [ 1.9807000e-04,  1.3697292e-03,  1.2804329e-03, ...,\n",
       "         1.1800590e-03, -5.8450934e-04, -3.9673451e-04],\n",
       "       [-9.4368780e-04,  1.3291637e-03, -5.1989371e-04, ...,\n",
       "         1.1719497e-03,  3.4152597e-04,  1.3979293e-03]], dtype=float32)"
      ]
     },
     "execution_count": 44,
     "metadata": {},
     "output_type": "execute_result"
    }
   ],
   "source": [
    "model[model.wv.vocab]"
   ]
  },
  {
   "cell_type": "code",
   "execution_count": 45,
   "metadata": {},
   "outputs": [
    {
     "data": {
      "text/plain": [
       "[('word2vec', 0.07985182851552963),\n",
       " ('sentence', 0.036238837987184525),\n",
       " ('more', 0.031186960637569427),\n",
       " ('another', 0.030362768098711967),\n",
       " ('this', -0.0013018168974667788),\n",
       " ('one', -0.00695493258535862),\n",
       " ('final', -0.010404408909380436),\n",
       " ('yet', -0.019741125404834747),\n",
       " ('and', -0.03142162039875984),\n",
       " ('second', -0.03764071315526962)]"
      ]
     },
     "execution_count": 45,
     "metadata": {},
     "output_type": "execute_result"
    }
   ],
   "source": [
    "model.wv.most_similar(\"first\")"
   ]
  },
  {
   "cell_type": "code",
   "execution_count": 46,
   "metadata": {},
   "outputs": [
    {
     "data": {
      "text/plain": [
       "array([-4.80971066e-04,  6.85635372e-04, -1.45494658e-03, -1.20409706e-03,\n",
       "       -2.66982475e-04,  1.36695779e-03, -2.25089505e-04, -5.67820098e-04,\n",
       "        3.70433001e-04, -1.48384995e-03,  6.08932642e-05,  2.23350304e-04,\n",
       "       -6.63744227e-04,  1.35649019e-03,  1.11396264e-04,  3.01766180e-04,\n",
       "       -1.48460816e-03,  1.26197422e-03, -1.65242050e-03, -1.27496116e-03,\n",
       "       -1.73614026e-04,  7.60554758e-05,  1.30074588e-03,  7.00145960e-04,\n",
       "       -1.38576771e-03, -1.45148297e-04, -1.38108619e-03,  1.01223739e-03,\n",
       "       -1.08501315e-03, -1.24420412e-03,  3.69852089e-04,  5.02401308e-05,\n",
       "       -7.42561242e-04,  1.53951661e-03, -7.20208336e-04, -1.07680995e-03,\n",
       "        6.04422938e-04,  2.56982021e-04,  1.18024764e-04, -1.56695372e-04,\n",
       "        3.61078361e-04, -1.88029357e-04, -3.50765506e-04, -1.05043838e-03,\n",
       "        9.77800926e-04,  1.10251363e-03,  5.31006604e-04,  1.56616524e-03,\n",
       "       -1.34955929e-03,  8.78855644e-05,  5.57851687e-04, -5.59356762e-04,\n",
       "       -1.08118134e-03,  1.53029279e-03,  4.15198592e-04,  3.95941257e-04,\n",
       "        1.57634204e-03,  1.65542209e-04,  3.39456979e-04, -1.50352344e-03,\n",
       "       -1.14361825e-03,  1.54452166e-03,  1.57936011e-05, -9.59791301e-04,\n",
       "       -6.18393125e-04,  2.40288646e-04, -4.49977291e-04, -1.59583439e-03,\n",
       "        3.60984355e-04, -1.46811747e-03, -8.36117193e-04,  7.59725444e-05,\n",
       "        1.10883208e-03, -6.09726063e-04,  3.45373293e-04, -5.89658506e-04,\n",
       "        9.24355641e-04, -1.58353173e-03,  1.23229879e-03,  1.07455009e-03,\n",
       "        3.40717554e-04, -4.30048443e-04,  1.50843838e-03,  9.06191010e-04,\n",
       "       -1.23620685e-03,  7.36508460e-04, -5.52524230e-04, -1.23354432e-03,\n",
       "        8.70609001e-05, -1.13072863e-03,  1.45506265e-03, -1.52418821e-03,\n",
       "        2.18590241e-04, -1.27342495e-03, -3.43198801e-04, -6.78795215e-04,\n",
       "       -1.46942923e-03, -1.29731349e-03,  7.20606127e-04, -5.70822740e-04,\n",
       "        1.43330824e-03, -1.23730593e-03, -9.76612209e-04,  8.74104095e-04,\n",
       "       -1.88364575e-04,  1.66849597e-04, -1.23603141e-03,  1.61335967e-03,\n",
       "        7.25183112e-04, -1.65144203e-03, -3.70543275e-04, -1.33965048e-03,\n",
       "        5.18125540e-04,  6.56132179e-04, -2.54992774e-05,  1.02369220e-03,\n",
       "        1.22282095e-03,  6.88234170e-04,  5.05388016e-04, -1.37261976e-03,\n",
       "       -7.33794470e-04,  7.59374932e-04, -3.33758275e-04, -1.21101388e-03,\n",
       "        9.42231505e-04, -1.44734466e-03,  1.61894865e-03,  9.20801889e-04,\n",
       "        1.13958272e-03, -1.38235837e-03, -4.81461291e-04, -1.62103307e-03,\n",
       "       -1.19974822e-04,  1.44425558e-03,  5.57553431e-04, -1.61719450e-03,\n",
       "        4.41902142e-04,  1.41608936e-03, -1.55346817e-03, -4.44608362e-04,\n",
       "       -1.34220079e-03,  7.62921467e-04,  7.88524048e-04, -6.55125885e-04,\n",
       "        1.22484425e-03, -8.64029687e-04,  1.13017777e-04, -8.53469130e-04,\n",
       "        4.84301345e-05,  5.08958416e-04,  1.16411806e-03,  8.78458435e-04,\n",
       "        5.78804233e-04, -1.04642659e-03,  1.10630039e-03,  7.71489926e-04,\n",
       "        1.50014134e-03, -7.40472518e-04,  9.28994195e-05, -5.88385388e-04,\n",
       "        8.39841960e-04,  6.19689527e-04, -1.27960346e-04,  1.63093524e-03,\n",
       "       -9.00384388e-04, -2.63520014e-05, -4.33687877e-04,  2.21363865e-04,\n",
       "        1.14339031e-03, -1.52172986e-03,  8.57139123e-04, -7.67615449e-04,\n",
       "        9.33882606e-04,  1.03774120e-03, -3.62668885e-04,  7.13259389e-04,\n",
       "        6.87213091e-04,  8.03361356e-04, -5.79029846e-04,  4.55925125e-04,\n",
       "       -1.46169288e-04,  9.68954817e-04,  1.16487674e-03,  2.22405477e-04,\n",
       "        4.75068053e-04, -5.18133864e-04, -1.22063945e-03, -1.20944262e-03,\n",
       "        1.45671470e-03, -4.91999788e-04,  3.34027136e-04, -2.70281773e-04,\n",
       "        1.08042290e-03, -7.05427374e-04,  6.15197117e-04, -3.00941116e-04,\n",
       "       -3.84248473e-04, -1.20603514e-03,  7.52302993e-04, -6.34672644e-04,\n",
       "        1.49165501e-03, -1.25384412e-03, -7.85767857e-04, -1.01134181e-03,\n",
       "       -8.12749844e-04, -2.69263110e-04,  2.14669752e-04,  9.39672536e-05,\n",
       "       -1.38962641e-04, -1.09714536e-04, -1.16763182e-03,  3.02851608e-04,\n",
       "        5.86256152e-04,  3.74441908e-04, -1.45962404e-03, -9.84697370e-04,\n",
       "       -6.03638997e-04,  8.19628884e-04,  4.24288126e-04,  1.41731091e-03,\n",
       "        6.19657367e-05,  1.42274424e-03,  1.43538869e-03, -1.24108722e-03,\n",
       "       -1.89707323e-04, -4.24811878e-04,  7.26782542e-04, -1.40004279e-03,\n",
       "        1.30510191e-03, -2.83189816e-04, -1.55855203e-03, -7.21776625e-04,\n",
       "       -1.44640985e-03,  1.37027132e-03,  1.57666020e-03, -1.44814572e-03,\n",
       "       -2.86909722e-04,  1.66419777e-03, -1.47226593e-03, -1.43955974e-03,\n",
       "       -4.10855864e-04, -1.28818396e-03, -5.87622017e-05, -8.82572902e-04,\n",
       "       -1.63566670e-03, -1.61803604e-04, -7.53150613e-04, -7.58583250e-04,\n",
       "        1.17386191e-03, -5.61388384e-04,  1.55002042e-03,  8.67832568e-04,\n",
       "        1.51024899e-03, -1.22267765e-03,  7.83226802e-04, -3.21421394e-04,\n",
       "        1.35223242e-03,  1.41103484e-03,  1.12625468e-03, -8.52788973e-04,\n",
       "       -1.41908834e-03, -6.38248457e-04, -1.59390189e-03,  3.66584427e-04,\n",
       "        3.62396735e-04, -3.43733176e-04, -1.31213153e-03, -2.65053852e-04,\n",
       "       -3.12494114e-04, -2.55864761e-05, -1.20058702e-03, -6.34376251e-04,\n",
       "        9.83409700e-04,  4.77290814e-05, -1.62198034e-04,  1.13898959e-05,\n",
       "        1.02465344e-03,  4.53879795e-04, -1.44339690e-03, -8.16293643e-04,\n",
       "       -9.96720279e-04, -8.79695930e-04,  1.25831910e-04,  1.63981970e-03,\n",
       "        9.69633809e-04,  1.55796914e-03,  2.20043148e-04, -7.80179515e-04,\n",
       "        3.96241812e-04,  1.77912007e-04,  1.47097604e-03, -1.31815963e-03,\n",
       "       -1.44679251e-03,  7.13929767e-04, -2.40739828e-04, -1.43821572e-03,\n",
       "       -9.29246948e-04,  2.68115400e-04, -5.68661373e-04, -3.11042385e-07],\n",
       "      dtype=float32)"
      ]
     },
     "execution_count": 46,
     "metadata": {},
     "output_type": "execute_result"
    }
   ],
   "source": [
    "model.wv['first'] # dimensionality or size of feature vecotor"
   ]
  },
  {
   "cell_type": "markdown",
   "metadata": {},
   "source": [
    "## Visualising the Word Embeddings"
   ]
  },
  {
   "cell_type": "code",
   "execution_count": 47,
   "metadata": {},
   "outputs": [],
   "source": [
    "# fit a 2d PCA model to the vectors\n",
    "X = model[model.wv.vocab]\n",
    "pca = PCA(n_components=2)\n",
    "result = pca.fit_transform(X)"
   ]
  },
  {
   "cell_type": "markdown",
   "metadata": {},
   "source": [
    "## PCA visualization"
   ]
  },
  {
   "cell_type": "code",
   "execution_count": 48,
   "metadata": {},
   "outputs": [
    {
     "data": {
      "image/png": "[encoded data removed]",
      "text/plain": [
       "<Figure size 432x288 with 1 Axes>"
      ]
     },
     "metadata": {
      "needs_background": "light"
     },
     "output_type": "display_data"
    }
   ],
   "source": [
    "# create a scatter plot of the projection\n",
    "plt.scatter(result[:, 0], result[:, 1])\n",
    "words = list(model.wv.vocab)\n",
    "\n",
    "for i, word in enumerate(words):\n",
    "    plt.annotate(word, xy=(result[i, 0], result[i, 1]))"
   ]
  },
  {
   "cell_type": "markdown",
   "metadata": {},
   "source": [
    "## t-SNE Visualization"
   ]
  },
  {
   "cell_type": "code",
   "execution_count": 49,
   "metadata": {},
   "outputs": [],
   "source": [
    "from sklearn.manifold import TSNE\n",
    "tsne = TSNE(n_components=2).fit_transform(X)"
   ]
  },
  {
   "cell_type": "code",
   "execution_count": 50,
   "metadata": {},
   "outputs": [
    {
     "data": {
      "text/html": [
       "<div>\n",
       "<style scoped>\n",
       "    .dataframe tbody tr th:only-of-type {\n",
       "        vertical-align: middle;\n",
       "    }\n",
       "\n",
       "    .dataframe tbody tr th {\n",
       "        vertical-align: top;\n",
       "    }\n",
       "\n",
       "    .dataframe thead th {\n",
       "        text-align: right;\n",
       "    }\n",
       "</style>\n",
       "<table border=\"1\" class=\"dataframe\">\n",
       "  <thead>\n",
       "    <tr style=\"text-align: right;\">\n",
       "      <th></th>\n",
       "      <th>TSNE component 1</th>\n",
       "      <th>TSNE component 2</th>\n",
       "      <th>word</th>\n",
       "    </tr>\n",
       "  </thead>\n",
       "  <tbody>\n",
       "    <tr>\n",
       "      <th>0</th>\n",
       "      <td>266.298431</td>\n",
       "      <td>23.642027</td>\n",
       "      <td>this</td>\n",
       "    </tr>\n",
       "    <tr>\n",
       "      <th>1</th>\n",
       "      <td>132.896149</td>\n",
       "      <td>-161.362015</td>\n",
       "      <td>is</td>\n",
       "    </tr>\n",
       "    <tr>\n",
       "      <th>2</th>\n",
       "      <td>-329.322601</td>\n",
       "      <td>-13.235461</td>\n",
       "      <td>the</td>\n",
       "    </tr>\n",
       "    <tr>\n",
       "      <th>3</th>\n",
       "      <td>-253.241608</td>\n",
       "      <td>-196.550934</td>\n",
       "      <td>first</td>\n",
       "    </tr>\n",
       "    <tr>\n",
       "      <th>4</th>\n",
       "      <td>-166.223312</td>\n",
       "      <td>-377.834686</td>\n",
       "      <td>sentence</td>\n",
       "    </tr>\n",
       "  </tbody>\n",
       "</table>\n",
       "</div>"
      ],
      "text/plain": [
       "   TSNE component 1  TSNE component 2      word\n",
       "0        266.298431         23.642027      this\n",
       "1        132.896149       -161.362015        is\n",
       "2       -329.322601        -13.235461       the\n",
       "3       -253.241608       -196.550934     first\n",
       "4       -166.223312       -377.834686  sentence"
      ]
     },
     "execution_count": 50,
     "metadata": {},
     "output_type": "execute_result"
    }
   ],
   "source": [
    "df = pd.DataFrame(tsne,columns = ['TSNE component 1', 'TSNE component 2'])\n",
    "df['word'] = model.wv.vocab.keys()\n",
    "df.head()"
   ]
  },
  {
   "cell_type": "code",
   "execution_count": 51,
   "metadata": {},
   "outputs": [],
   "source": [
    "def tsne_plot(model):\n",
    "    \"Creates and TSNE model and plots it\"\n",
    "    labels = []\n",
    "    tokens = []\n",
    "\n",
    "    for word in model.wv.vocab:\n",
    "        tokens.append(model[word])\n",
    "        labels.append(word)\n",
    "    \n",
    "    tsne_model = TSNE(perplexity=40, n_components=2, init='pca', n_iter=2500, random_state=23)\n",
    "    new_values = tsne_model.fit_transform(tokens)\n",
    "\n",
    "    x = []\n",
    "    y = []\n",
    "    for value in new_values:\n",
    "        x.append(value[0])\n",
    "        y.append(value[1])\n",
    "        \n",
    "    plt.figure(figsize=(10, 5)) \n",
    "    for i in range(len(x)):\n",
    "        plt.scatter(x[i],y[i])\n",
    "        plt.annotate(labels[i],\n",
    "                     xy=(x[i], y[i]),\n",
    "                     xytext=(5, 2),\n",
    "                     textcoords='offset points',\n",
    "                     ha='right',\n",
    "                     va='bottom')\n",
    "    plt.show()"
   ]
  },
  {
   "cell_type": "code",
   "execution_count": 52,
   "metadata": {},
   "outputs": [
    {
     "data": {
      "image/png": "[encoded data removed]",
      "text/plain": [
       "<Figure size 720x360 with 1 Axes>"
      ]
     },
     "metadata": {
      "needs_background": "light"
     },
     "output_type": "display_data"
    }
   ],
   "source": [
    "tsne_plot(model)"
   ]
  }
 ],
 "metadata": {
  "kernelspec": {
   "display_name": "Python 3",
   "language": "python",
   "name": "python3"
  },
  "language_info": {
   "codemirror_mode": {
    "name": "ipython",
    "version": 3
   },
   "file_extension": ".py",
   "mimetype": "text/x-python",
   "name": "python",
   "nbconvert_exporter": "python",
   "pygments_lexer": "ipython3",
   "version": "3.8.2"
  }
 },
 "nbformat": 4,
 "nbformat_minor": 4
}
