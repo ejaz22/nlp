{
 "cells": [
  {
   "cell_type": "markdown",
   "metadata": {},
   "source": [
    "## Problem 1 : Loan document classification"
   ]
  },
  {
   "cell_type": "code",
   "execution_count": 59,
   "metadata": {},
   "outputs": [],
   "source": [
    "import pandas as pd\n",
    "import warnings\n",
    "warnings.filterwarnings('ignore')\n",
    "import matplotlib.pyplot as plt\n",
    "%matplotlib inline"
   ]
  },
  {
   "cell_type": "code",
   "execution_count": 2,
   "metadata": {},
   "outputs": [
    {
     "data": {
      "text/html": [
       "<div>\n",
       "<style scoped>\n",
       "    .dataframe tbody tr th:only-of-type {\n",
       "        vertical-align: middle;\n",
       "    }\n",
       "\n",
       "    .dataframe tbody tr th {\n",
       "        vertical-align: top;\n",
       "    }\n",
       "\n",
       "    .dataframe thead th {\n",
       "        text-align: right;\n",
       "    }\n",
       "</style>\n",
       "<table border=\"1\" class=\"dataframe\">\n",
       "  <thead>\n",
       "    <tr style=\"text-align: right;\">\n",
       "      <th></th>\n",
       "      <th>Label</th>\n",
       "      <th>Text</th>\n",
       "    </tr>\n",
       "  </thead>\n",
       "  <tbody>\n",
       "    <tr>\n",
       "      <th>0</th>\n",
       "      <td>CLOS_DISC</td>\n",
       "      <td>Closing DisclosureThis form is a statement of ...</td>\n",
       "    </tr>\n",
       "    <tr>\n",
       "      <th>1</th>\n",
       "      <td>CLOS_DISC</td>\n",
       "      <td>Closing Cost DetailsBorrower-PaidSeller-PaldLo...</td>\n",
       "    </tr>\n",
       "    <tr>\n",
       "      <th>2</th>\n",
       "      <td>CLOS_DISC</td>\n",
       "      <td>Calculating Cash to CloseUse this table to see...</td>\n",
       "    </tr>\n",
       "    <tr>\n",
       "      <th>3</th>\n",
       "      <td>CLOS_DISC</td>\n",
       "      <td>Additiona Information About This LoanLoan Disc...</td>\n",
       "    </tr>\n",
       "    <tr>\n",
       "      <th>4</th>\n",
       "      <td>CLOS_DISC</td>\n",
       "      <td>Loan CalculationsOther DisclosuresTotal of Pay...</td>\n",
       "    </tr>\n",
       "  </tbody>\n",
       "</table>\n",
       "</div>"
      ],
      "text/plain": [
       "       Label                                               Text\n",
       "0  CLOS_DISC  Closing DisclosureThis form is a statement of ...\n",
       "1  CLOS_DISC  Closing Cost DetailsBorrower-PaidSeller-PaldLo...\n",
       "2  CLOS_DISC  Calculating Cash to CloseUse this table to see...\n",
       "3  CLOS_DISC  Additiona Information About This LoanLoan Disc...\n",
       "4  CLOS_DISC  Loan CalculationsOther DisclosuresTotal of Pay..."
      ]
     },
     "execution_count": 2,
     "metadata": {},
     "output_type": "execute_result"
    }
   ],
   "source": [
    "# read test and train files\n",
    "train = pd.read_csv('Train_data.csv')\n",
    "test = pd.read_csv('Test_data.csv')\n",
    "\n",
    "train.head()"
   ]
  },
  {
   "cell_type": "code",
   "execution_count": 3,
   "metadata": {},
   "outputs": [
    {
     "data": {
      "text/html": [
       "<div>\n",
       "<style scoped>\n",
       "    .dataframe tbody tr th:only-of-type {\n",
       "        vertical-align: middle;\n",
       "    }\n",
       "\n",
       "    .dataframe tbody tr th {\n",
       "        vertical-align: top;\n",
       "    }\n",
       "\n",
       "    .dataframe thead th {\n",
       "        text-align: right;\n",
       "    }\n",
       "</style>\n",
       "<table border=\"1\" class=\"dataframe\">\n",
       "  <thead>\n",
       "    <tr style=\"text-align: right;\">\n",
       "      <th></th>\n",
       "      <th>Text</th>\n",
       "    </tr>\n",
       "  </thead>\n",
       "  <tbody>\n",
       "    <tr>\n",
       "      <th>0</th>\n",
       "      <td>TRUE &amp; CERTIFIED COPYDAThis form is a statemen...</td>\n",
       "    </tr>\n",
       "    <tr>\n",
       "      <th>1</th>\n",
       "      <td>Additional Information About This LoanLoan Dis...</td>\n",
       "    </tr>\n",
       "    <tr>\n",
       "      <th>2</th>\n",
       "      <td>Closing Cost DetailsBorrower-PaidSeller-PaidPa...</td>\n",
       "    </tr>\n",
       "    <tr>\n",
       "      <th>3</th>\n",
       "      <td>Calculating Cash to CloseUse this table to see...</td>\n",
       "    </tr>\n",
       "    <tr>\n",
       "      <th>4</th>\n",
       "      <td>Loan CalculationsOther DisclosuresTotal of Pay...</td>\n",
       "    </tr>\n",
       "  </tbody>\n",
       "</table>\n",
       "</div>"
      ],
      "text/plain": [
       "                                                Text\n",
       "0  TRUE & CERTIFIED COPYDAThis form is a statemen...\n",
       "1  Additional Information About This LoanLoan Dis...\n",
       "2  Closing Cost DetailsBorrower-PaidSeller-PaidPa...\n",
       "3  Calculating Cash to CloseUse this table to see...\n",
       "4  Loan CalculationsOther DisclosuresTotal of Pay..."
      ]
     },
     "execution_count": 3,
     "metadata": {},
     "output_type": "execute_result"
    }
   ],
   "source": [
    "test.head()"
   ]
  },
  {
   "cell_type": "markdown",
   "metadata": {},
   "source": [
    "### Perform EDA"
   ]
  },
  {
   "cell_type": "code",
   "execution_count": 4,
   "metadata": {},
   "outputs": [
    {
     "data": {
      "text/plain": [
       "(16130, 2)"
      ]
     },
     "execution_count": 4,
     "metadata": {},
     "output_type": "execute_result"
    }
   ],
   "source": [
    "train.shape"
   ]
  },
  {
   "cell_type": "code",
   "execution_count": 5,
   "metadata": {},
   "outputs": [
    {
     "data": {
      "text/plain": [
       "count    16130.000000\n",
       "mean      2500.473280\n",
       "std       1863.212585\n",
       "min          1.000000\n",
       "25%       1094.000000\n",
       "50%       2031.000000\n",
       "75%       3452.000000\n",
       "max      14008.000000\n",
       "Name: Text, dtype: float64"
      ]
     },
     "execution_count": 5,
     "metadata": {},
     "output_type": "execute_result"
    }
   ],
   "source": [
    "# Analysis of comment length (min length of message is 6)\n",
    "train['Text'].str.len().describe()"
   ]
  },
  {
   "cell_type": "code",
   "execution_count": 6,
   "metadata": {},
   "outputs": [
    {
     "data": {
      "text/plain": [
       "\"Closing DisclosureThis form is a statement of final loan terms and closing costs. Compare thisdocument with your Loan Estimate.Closing InformationTransaction InformationLoan InformationDate Issued02/09/2018BorrowerNEELAKANTHA M HARRINGTON andLoan Term30 yearsClosing Date02/09/2018ELIZABETH BERNADINE HARRINGTONPurposePurchaseDisbursement Date02/09/201817300 SW 88TH CTProductFixed RateSettlement AgentENTRUST SOLUTIONS LLCPALMETTO BAY, FL 33157SellerIFLIPPER HOMES LLCFile #1359-16FL-0127Loan TypeXX ConventionalFHA8874 SW 229 SSTProperty17201 SW 90TH AVEMIAMI, FL 33190VAPALMETTO BAY, FL 33157LenderUNITED WHOLESALE MORTGAGELoan ID #1217172251Sale Price$469,999.00MIC #Loan TermsCan this amount increase after closing?Loan Amount$446,499NOInterest Rate5.375%NOCEFTIFY THAT THISIS ATRUE AND CORREC COPYOF THE ORIGINALMonthly Principal & Interest$2,500.27NOEASee Projected Payments below for yourEstimated Total Monthly PaymentDoes the loan have these features?Prepayment PenaltyNOBalloon PaymentNOProjected PaymentsPayment CalculationYears 1-30Principal & Interest$2,500.27Mortgage Insurance+0Estimated Escrow+892.79Amount can increase over timeEstimated TotalMonthly Payment$3,393.06This estimate includesIn escrow?Estimated Taxes, InsuranceProperty TaxesYES& Assessments$892.79Homeowner's InsuranceYESAmount can increase over timea monthOther:See page 4 for detailsSee Escrow Account on page 4 for details. You must pay for other propertycosts separately.Costs at Closing$14,997.11Includes $4,993.40 in Loan Costs + $15,584.95 in Other Costs - $5,581.24Closing Costsin Lender Credits. See page 2 for details.Cash to Close$18,029.23Includes Closing Costs. See Calculating Cash to Close on page 3 for details.18566.670 CLOSING DISCLOSUREPAGE 1 OF 5 LOAN ID # 1217172251-4\""
      ]
     },
     "execution_count": 6,
     "metadata": {},
     "output_type": "execute_result"
    }
   ],
   "source": [
    "train['Text'][0]"
   ]
  },
  {
   "cell_type": "code",
   "execution_count": 7,
   "metadata": {},
   "outputs": [
    {
     "data": {
      "text/plain": [
       "<matplotlib.axes._subplots.AxesSubplot at 0x1d9028a1a20>"
      ]
     },
     "execution_count": 7,
     "metadata": {},
     "output_type": "execute_result"
    },
    {
     "data": {
      "image/png": "[encoded data removed]",
      "text/plain": [
       "<matplotlib.figure.Figure at 0x1d902821cc0>"
      ]
     },
     "metadata": {
      "needs_background": "light"
     },
     "output_type": "display_data"
    }
   ],
   "source": [
    "train['Text'].str.len().hist()"
   ]
  },
  {
   "cell_type": "code",
   "execution_count": 8,
   "metadata": {},
   "outputs": [
    {
     "data": {
      "text/plain": [
       "56"
      ]
     },
     "execution_count": 8,
     "metadata": {},
     "output_type": "execute_result"
    }
   ],
   "source": [
    "# get number of unique labels\n",
    "train['Label'].nunique()"
   ]
  },
  {
   "cell_type": "code",
   "execution_count": 9,
   "metadata": {
    "scrolled": true
   },
   "outputs": [
    {
     "data": {
      "text/plain": [
       "None                                                       8065\n",
       "MORTGAGE                                                    891\n",
       "CREDIT_REPORT                                               754\n",
       "FORM1003                                                    716\n",
       "CLOS_DISC                                                   676\n",
       "APPRAISAL                                                   571\n",
       "PURCHASE_CONTRACT                                           449\n",
       "AUS-DU                                                      393\n",
       "TITLE                                                       383\n",
       "LOAN_EST                                                    319\n",
       "NOTE                                                        239\n",
       "CPL                                                         225\n",
       "HOMEOWNERSHIP_COUNSELING_ORG_LIST                           222\n",
       "FORM4506-T                                                  218\n",
       "WARRANTY_DEED                                               131\n",
       "VERBAL_VOE                                                  123\n",
       "PATRIOT                                                     104\n",
       "Credit Inquiry                                               90\n",
       "LOCK_CONFORMATION                                            85\n",
       "HOI                                                          83\n",
       "ESCROW                                                       82\n",
       "Survey                                                       81\n",
       "APPRAISAL_DELIVERY_WAIVER/CONSENT_AND_INTENT_TO_PROCEED      72\n",
       "EQUAL_CREDIT_OPPURTUNITY_ACT                                 69\n",
       "FLOOD_INSURANCE                                              65\n",
       "CREDIT_INQUIRY                                               65\n",
       "ACK_HOMEOWNERSHIP_COUNSELING_ORG_LIST                        63\n",
       "STEERING                                                     61\n",
       "WIRING_INST                                                  60\n",
       "COC                                                          60\n",
       "APPROVAL                                                     60\n",
       "Policy Endorsement                                           58\n",
       "APPRAISAL_REPORT_INVOICE                                     58\n",
       "FLOOD                                                        57\n",
       "BUSSINESS_ARRANGEMENT_DISC_STATEMENT                         57\n",
       "Third Party Processing Invoice                               55\n",
       "CHAIN_TITLE                                                  53\n",
       "IMPORTANT_NOTICE_TO_HOMEBUYERS                               44\n",
       "QM_BREAKDOWN                                                 42\n",
       "Notice of Ad Valorem Tax                                     41\n",
       "Survey Invoice                                               35\n",
       "CONSENT_AND_INTENT_TO_PROCEED                                33\n",
       "HOI Invoice                                                  27\n",
       "APPRAISAL_DELIVERY_WAIVER                                    23\n",
       "INFORMED_CHOICE_DISCLOSURE_NOTICE                            17\n",
       "NOTICE_TO_HOMEOWNER                                          15\n",
       "PURCHASE_CONTRACT_ADDENDUM                                   14\n",
       "FHA_IDENTITY_OF_INTEREST_CERTIFICATION                       10\n",
       "PURCHASE_CONTRACT_EXTENSION_ADDENDUM                          5\n",
       "-                                                             4\n",
       "Chain of Title                                                2\n",
       "Credit Report                                                 1\n",
       "INFORMED_CHOICE_DISCLOSURE_NOTICE/                            1\n",
       "Purchase Contract                                             1\n",
       "Loan Approval                                                 1\n",
       "Note                                                          1\n",
       "Name: Label, dtype: int64"
      ]
     },
     "execution_count": 9,
     "metadata": {},
     "output_type": "execute_result"
    }
   ],
   "source": [
    "# get frequency count of labels\n",
    "train['Label'].value_counts()"
   ]
  },
  {
   "cell_type": "code",
   "execution_count": 58,
   "metadata": {},
   "outputs": [
    {
     "data": {
      "text/plain": [
       "<matplotlib.axes._subplots.AxesSubplot at 0x1d90e7c8860>"
      ]
     },
     "execution_count": 58,
     "metadata": {},
     "output_type": "execute_result"
    },
    {
     "data": {
      "image/png": "[encoded data removed]",
      "text/plain": [
       "<matplotlib.figure.Figure at 0x1d90c40d978>"
      ]
     },
     "metadata": {
      "needs_background": "light"
     },
     "output_type": "display_data"
    }
   ],
   "source": [
    "train['Label'].value_counts(normalize=True).plot(kind='barh',grid = True, figsize=(10,20))"
   ]
  },
  {
   "cell_type": "code",
   "execution_count": 22,
   "metadata": {},
   "outputs": [],
   "source": [
    "# Removing all features that has  None values\n",
    "train = train[train.Label != 'None']\n",
    "\n",
    "# relabel as \"Others\" with < 10 count\n",
    "train.loc[train.groupby('Label')['Label'].transform('count').lt(10), 'Label'] = \"Others\""
   ]
  },
  {
   "cell_type": "code",
   "execution_count": 23,
   "metadata": {},
   "outputs": [
    {
     "data": {
      "text/plain": [
       "MORTGAGE                                                   891\n",
       "CREDIT_REPORT                                              754\n",
       "FORM1003                                                   716\n",
       "CLOS_DISC                                                  676\n",
       "APPRAISAL                                                  571\n",
       "PURCHASE_CONTRACT                                          449\n",
       "AUS-DU                                                     393\n",
       "TITLE                                                      383\n",
       "LOAN_EST                                                   319\n",
       "NOTE                                                       239\n",
       "CPL                                                        225\n",
       "HOMEOWNERSHIP_COUNSELING_ORG_LIST                          222\n",
       "FORM4506-T                                                 218\n",
       "WARRANTY_DEED                                              131\n",
       "VERBAL_VOE                                                 123\n",
       "PATRIOT                                                    104\n",
       "Credit Inquiry                                              90\n",
       "LOCK_CONFORMATION                                           85\n",
       "HOI                                                         83\n",
       "ESCROW                                                      82\n",
       "Survey                                                      81\n",
       "APPRAISAL_DELIVERY_WAIVER/CONSENT_AND_INTENT_TO_PROCEED     72\n",
       "EQUAL_CREDIT_OPPURTUNITY_ACT                                69\n",
       "CREDIT_INQUIRY                                              65\n",
       "FLOOD_INSURANCE                                             65\n",
       "ACK_HOMEOWNERSHIP_COUNSELING_ORG_LIST                       63\n",
       "STEERING                                                    61\n",
       "WIRING_INST                                                 60\n",
       "APPROVAL                                                    60\n",
       "COC                                                         60\n",
       "Policy Endorsement                                          58\n",
       "APPRAISAL_REPORT_INVOICE                                    58\n",
       "BUSSINESS_ARRANGEMENT_DISC_STATEMENT                        57\n",
       "FLOOD                                                       57\n",
       "Third Party Processing Invoice                              55\n",
       "CHAIN_TITLE                                                 53\n",
       "IMPORTANT_NOTICE_TO_HOMEBUYERS                              44\n",
       "QM_BREAKDOWN                                                42\n",
       "Notice of Ad Valorem Tax                                    41\n",
       "Survey Invoice                                              35\n",
       "CONSENT_AND_INTENT_TO_PROCEED                               33\n",
       "HOI Invoice                                                 27\n",
       "APPRAISAL_DELIVERY_WAIVER                                   23\n",
       "INFORMED_CHOICE_DISCLOSURE_NOTICE                           17\n",
       "Others                                                      16\n",
       "NOTICE_TO_HOMEOWNER                                         15\n",
       "PURCHASE_CONTRACT_ADDENDUM                                  14\n",
       "FHA_IDENTITY_OF_INTEREST_CERTIFICATION                      10\n",
       "Name: Label, dtype: int64"
      ]
     },
     "execution_count": 23,
     "metadata": {},
     "output_type": "execute_result"
    }
   ],
   "source": [
    "train['Label'].value_counts()"
   ]
  },
  {
   "cell_type": "code",
   "execution_count": 24,
   "metadata": {},
   "outputs": [
    {
     "data": {
      "text/plain": [
       "(8065, 2)"
      ]
     },
     "execution_count": 24,
     "metadata": {},
     "output_type": "execute_result"
    }
   ],
   "source": [
    "train.shape"
   ]
  },
  {
   "cell_type": "code",
   "execution_count": 25,
   "metadata": {},
   "outputs": [],
   "source": [
    "import re\n",
    "import nltk\n",
    "\n",
    "# process text - white space, special character etc\n",
    "def norm_docs(doc):\n",
    "    wp = nltk.WordPunctTokenizer()\n",
    "    stop_words = nltk.corpus.stopwords.words('english')\n",
    "    doc = re.sub(r'[^a-zA-Z\\s]', '', doc, re.I|re.A)\n",
    "    doc = doc.lower().strip()\n",
    "    tokens = wp.tokenize(doc)\n",
    "    filtered_tokens = [token for token in tokens if token not in stop_words]\n",
    "    doc = ' '.join(filtered_tokens)\n",
    "    return doc"
   ]
  },
  {
   "cell_type": "code",
   "execution_count": 26,
   "metadata": {},
   "outputs": [],
   "source": [
    "# normalize train and test data\n",
    "train['Text'] = train['Text'].apply(lambda x : norm_docs(x))\n",
    "test['Text'] = test['Text'].apply(lambda x : norm_docs(x))\n",
    "\n",
    "# char count\n",
    "train['char_count'] = train['Text'].apply(lambda x : len(x.replace(\" \",\"\")))\n",
    "\n",
    "# word count\n",
    "train['word_count'] = train['Text'].apply(lambda x : len(x.split()))\n",
    "\n",
    "# word density\n",
    "train['word_density'] = train['word_count'] / (train['char_count'] + 1)"
   ]
  },
  {
   "cell_type": "code",
   "execution_count": 27,
   "metadata": {},
   "outputs": [
    {
     "data": {
      "text/plain": [
       "<matplotlib.axes._subplots.AxesSubplot at 0x1d9099b8dd8>"
      ]
     },
     "execution_count": 27,
     "metadata": {},
     "output_type": "execute_result"
    },
    {
     "data": {
      "image/png": "[encoded data removed]",
      "text/plain": [
       "<matplotlib.figure.Figure at 0x1d9099b8208>"
      ]
     },
     "metadata": {
      "needs_background": "light"
     },
     "output_type": "display_data"
    }
   ],
   "source": [
    "train['char_count'].hist()"
   ]
  },
  {
   "cell_type": "code",
   "execution_count": 29,
   "metadata": {},
   "outputs": [],
   "source": [
    "# encode target labels\n",
    "from sklearn.preprocessing import LabelEncoder\n",
    "le = LabelEncoder()\n",
    "y =  le.fit_transform(train['Label'])"
   ]
  },
  {
   "cell_type": "code",
   "execution_count": 30,
   "metadata": {},
   "outputs": [],
   "source": [
    "# train, test and split\n",
    "from sklearn.model_selection import train_test_split\n",
    "X_train, X_test, y_train, y_test = train_test_split(train['Text'], y, test_size=0.2,random_state = 0)"
   ]
  },
  {
   "cell_type": "code",
   "execution_count": 31,
   "metadata": {},
   "outputs": [],
   "source": [
    "from sklearn.feature_extraction.text import TfidfVectorizer\n",
    "\n",
    "tfv = TfidfVectorizer(min_df=3,  max_features=None, \n",
    "            strip_accents='unicode', analyzer='word',token_pattern=r'\\w{1,}',\n",
    "            ngram_range=(1, 3), use_idf=1,smooth_idf=1,sublinear_tf=1,\n",
    "            stop_words = 'english')\n",
    "\n",
    "tfv.fit(X_train)\n",
    "X_train = tfv.transform(X_train)\n",
    "X_test = tfv.transform(X_test)"
   ]
  },
  {
   "cell_type": "code",
   "execution_count": 32,
   "metadata": {},
   "outputs": [
    {
     "data": {
      "text/plain": [
       "SVC(C=1.0, cache_size=200, class_weight='balanced', coef0=0.0,\n",
       "  decision_function_shape='ovr', degree=3, gamma='auto', kernel='linear',\n",
       "  max_iter=-1, probability=True, random_state=None, shrinking=True,\n",
       "  tol=0.001, verbose=False)"
      ]
     },
     "execution_count": 32,
     "metadata": {},
     "output_type": "execute_result"
    }
   ],
   "source": [
    "# fit Support vector classifier\n",
    "from sklearn.svm import SVC\n",
    "\n",
    "clf = SVC(kernel='linear', class_weight='balanced',probability=True)\n",
    "clf.fit(X_train, y_train)"
   ]
  },
  {
   "cell_type": "code",
   "execution_count": 33,
   "metadata": {},
   "outputs": [],
   "source": [
    "y_pred = clf.predict(X_test)"
   ]
  },
  {
   "cell_type": "code",
   "execution_count": 34,
   "metadata": {},
   "outputs": [
    {
     "name": "stdout",
     "output_type": "stream",
     "text": [
      "                                                         precision    recall  f1-score   support\n",
      "\n",
      "                                              CLOS_DISC       0.94      0.88      0.91        17\n",
      "                                                   NOTE       0.98      0.99      0.99       125\n",
      "                                               MORTGAGE       1.00      0.50      0.67         4\n",
      "                                          WARRANTY_DEED       1.00      0.78      0.88         9\n",
      "                                            WIRING_INST       1.00      0.78      0.88         9\n",
      "                                            CHAIN_TITLE       0.92      1.00      0.96        12\n",
      "                                                  TITLE       0.97      0.97      0.97        75\n",
      "                               Notice of Ad Valorem Tax       1.00      1.00      1.00        12\n",
      "                                                    CPL       1.00      0.75      0.86        12\n",
      "                                                 Survey       0.98      0.99      0.99       140\n",
      "                                     Policy Endorsement       1.00      1.00      1.00        10\n",
      "                                                 ESCROW       0.80      1.00      0.89         8\n",
      "                                           QM_BREAKDOWN       1.00      1.00      1.00        44\n",
      "                      HOMEOWNERSHIP_COUNSELING_ORG_LIST       1.00      0.80      0.89        10\n",
      "                  ACK_HOMEOWNERSHIP_COUNSELING_ORG_LIST       0.92      1.00      0.96       152\n",
      "                                               FORM1003       1.00      1.00      1.00        16\n",
      "                                               APPROVAL       1.00      1.00      1.00        15\n",
      "                                      LOCK_CONFORMATION       0.93      1.00      0.97        14\n",
      "                                                 AUS-DU       1.00      1.00      1.00        13\n",
      "                                          CREDIT_REPORT       0.94      1.00      0.97        15\n",
      "                                             VERBAL_VOE       1.00      1.00      1.00       121\n",
      "                                              APPRAISAL       1.00      0.93      0.97        46\n",
      "                                               LOAN_EST       0.89      1.00      0.94        16\n",
      "                                               STEERING       1.00      0.60      0.75        10\n",
      "                               APPRAISAL_REPORT_INVOICE       1.00      1.00      1.00        43\n",
      "                                         Survey Invoice       1.00      1.00      1.00        10\n",
      "                         Third Party Processing Invoice       0.67      1.00      0.80         2\n",
      "                                            HOI Invoice       1.00      1.00      1.00        59\n",
      "                                         CREDIT_INQUIRY       1.00      1.00      1.00        17\n",
      "                                                PATRIOT       0.98      0.99      0.99       180\n",
      "                                             FORM4506-T       0.98      0.93      0.96        61\n",
      "                   BUSSINESS_ARRANGEMENT_DISC_STATEMENT       1.00      1.00      1.00         4\n",
      "                                        FLOOD_INSURANCE       1.00      1.00      1.00         7\n",
      "                                                  FLOOD       0.00      0.00      0.00         3\n",
      "                          CONSENT_AND_INTENT_TO_PROCEED       1.00      1.00      1.00        22\n",
      "APPRAISAL_DELIVERY_WAIVER/CONSENT_AND_INTENT_TO_PROCEED       1.00      1.00      1.00        78\n",
      "                                         Credit Inquiry       1.00      1.00      1.00         1\n",
      "                           EQUAL_CREDIT_OPPURTUNITY_ACT       0.92      1.00      0.96        11\n",
      "                                                 Others       1.00      1.00      1.00         9\n",
      "                                      PURCHASE_CONTRACT       1.00      1.00      1.00        17\n",
      "                             PURCHASE_CONTRACT_ADDENDUM       0.93      0.88      0.90        16\n",
      "                                                    COC       0.86      0.86      0.86         7\n",
      "                                                    HOI       0.97      0.94      0.95        78\n",
      "                              APPRAISAL_DELIVERY_WAIVER       1.00      1.00      1.00        10\n",
      "                                    NOTICE_TO_HOMEOWNER       1.00      1.00      1.00        30\n",
      "                         IMPORTANT_NOTICE_TO_HOMEBUYERS       0.88      0.93      0.90        30\n",
      "                      INFORMED_CHOICE_DISCLOSURE_NOTICE       0.93      1.00      0.96        13\n",
      "\n",
      "                                            avg / total       0.97      0.97      0.97      1613\n",
      "\n"
     ]
    }
   ],
   "source": [
    "from sklearn.metrics import classification_report,confusion_matrix,log_loss\n",
    "print(classification_report(y_test, y_pred, target_names=train['Label'].unique()))"
   ]
  },
  {
   "cell_type": "code",
   "execution_count": 35,
   "metadata": {},
   "outputs": [
    {
     "data": {
      "text/plain": [
       "True"
      ]
     },
     "execution_count": 35,
     "metadata": {},
     "output_type": "execute_result"
    }
   ],
   "source": [
    "# analyze confusion matrix\n",
    "from pycm import ConfusionMatrix\n",
    "cm = ConfusionMatrix(actual_vector=y_test, predict_vector=y_pred)\n",
    "cm.imbalance\n",
    "#print(cm)"
   ]
  },
  {
   "cell_type": "code",
   "execution_count": 51,
   "metadata": {},
   "outputs": [],
   "source": [
    "# produce final output\n",
    "X_final = tfv.transform(test['Text'])\n",
    "y_final = clf.predict(X_final)\n",
    "test['predicted'] = y_final\n",
    "test.to_csv(\"Problem_1.csv\",index=False)"
   ]
  },
  {
   "cell_type": "markdown",
   "metadata": {},
   "source": [
    "### SMOTE"
   ]
  },
  {
   "cell_type": "code",
   "execution_count": null,
   "metadata": {},
   "outputs": [],
   "source": [
    "from imblearn.over_sampling import SMOTE\n",
    "\n",
    "sm = SMOTE(k_neighbors=10, random_state=44, kind = 'svm')\n",
    "X_res_train, y_res_train = sm.fit_sample(X_train, y_train)"
   ]
  }
 ],
 "metadata": {
  "kernelspec": {
   "display_name": "Python 3",
   "language": "python",
   "name": "python3"
  },
  "language_info": {
   "codemirror_mode": {
    "name": "ipython",
    "version": 3
   },
   "file_extension": ".py",
   "mimetype": "text/x-python",
   "name": "python",
   "nbconvert_exporter": "python",
   "pygments_lexer": "ipython3",
   "version": "3.6.4"
  }
 },
 "nbformat": 4,
 "nbformat_minor": 2
}
